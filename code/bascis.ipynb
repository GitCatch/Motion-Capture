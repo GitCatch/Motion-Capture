{
 "cells": [
  {
   "cell_type": "code",
   "execution_count": 10,
   "metadata": {},
   "outputs": [],
   "source": [
    "from database import User, add_to_db, open_db, File, Project"
   ]
  },
  {
   "cell_type": "code",
   "execution_count": 13,
   "metadata": {},
   "outputs": [
    {
     "name": "stdout",
     "output_type": "stream",
     "text": [
      "2024-02-24 16:08:49,120 INFO sqlalchemy.engine.Engine BEGIN (implicit)\n",
      "2024-02-24 16:08:49,123 INFO sqlalchemy.engine.Engine SELECT users.id AS users_id, users.username AS users_username, users.email AS users_email, users.password AS users_password, users.created_at AS users_created_at \n",
      "FROM users \n",
      "WHERE users.email = ? AND users.password = ?\n",
      " LIMIT ? OFFSET ?\n",
      "2024-02-24 16:08:49,125 INFO sqlalchemy.engine.Engine [generated in 0.00245s] ('usman@gmail.com', 'usman', 1, 0)\n"
     ]
    },
    {
     "data": {
      "text/plain": [
       "'usman@gmail.com'"
      ]
     },
     "execution_count": 13,
     "metadata": {},
     "output_type": "execute_result"
    }
   ],
   "source": [
    "db = open_db()\n",
    "user = db.query(User).filter_by(email=\"usman@gmail.com\",password=\"usman\").first()\n",
    "user.email"
   ]
  },
  {
   "cell_type": "code",
   "execution_count": null,
   "metadata": {},
   "outputs": [],
   "source": []
  }
 ],
 "metadata": {
  "kernelspec": {
   "display_name": "base",
   "language": "python",
   "name": "python3"
  },
  "language_info": {
   "codemirror_mode": {
    "name": "ipython",
    "version": 3
   },
   "file_extension": ".py",
   "mimetype": "text/x-python",
   "name": "python",
   "nbconvert_exporter": "python",
   "pygments_lexer": "ipython3",
   "version": "3.10.10"
  }
 },
 "nbformat": 4,
 "nbformat_minor": 2
}
